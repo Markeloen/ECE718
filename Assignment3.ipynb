{
 "cells": [
  {
   "attachments": {},
   "cell_type": "markdown",
   "metadata": {},
   "source": [
    "\n",
    "Getting data - Setup Data - Training and Test"
   ]
  },
  {
   "cell_type": "code",
   "execution_count": 10,
   "metadata": {},
   "outputs": [
    {
     "data": {
      "text/html": [
       "<div>\n",
       "<style scoped>\n",
       "    .dataframe tbody tr th:only-of-type {\n",
       "        vertical-align: middle;\n",
       "    }\n",
       "\n",
       "    .dataframe tbody tr th {\n",
       "        vertical-align: top;\n",
       "    }\n",
       "\n",
       "    .dataframe thead th {\n",
       "        text-align: right;\n",
       "    }\n",
       "</style>\n",
       "<table border=\"1\" class=\"dataframe\">\n",
       "  <thead>\n",
       "    <tr style=\"text-align: right;\">\n",
       "      <th></th>\n",
       "      <th>mean radius</th>\n",
       "      <th>mean texture</th>\n",
       "      <th>mean perimeter</th>\n",
       "      <th>mean area</th>\n",
       "      <th>mean smoothness</th>\n",
       "      <th>mean compactness</th>\n",
       "      <th>mean concavity</th>\n",
       "      <th>mean concave points</th>\n",
       "      <th>mean symmetry</th>\n",
       "      <th>mean fractal dimension</th>\n",
       "      <th>...</th>\n",
       "      <th>worst radius</th>\n",
       "      <th>worst texture</th>\n",
       "      <th>worst perimeter</th>\n",
       "      <th>worst area</th>\n",
       "      <th>worst smoothness</th>\n",
       "      <th>worst compactness</th>\n",
       "      <th>worst concavity</th>\n",
       "      <th>worst concave points</th>\n",
       "      <th>worst symmetry</th>\n",
       "      <th>worst fractal dimension</th>\n",
       "    </tr>\n",
       "  </thead>\n",
       "  <tbody>\n",
       "    <tr>\n",
       "      <th>0</th>\n",
       "      <td>17.99</td>\n",
       "      <td>10.38</td>\n",
       "      <td>122.80</td>\n",
       "      <td>1001.0</td>\n",
       "      <td>0.11840</td>\n",
       "      <td>0.27760</td>\n",
       "      <td>0.3001</td>\n",
       "      <td>0.14710</td>\n",
       "      <td>0.2419</td>\n",
       "      <td>0.07871</td>\n",
       "      <td>...</td>\n",
       "      <td>25.38</td>\n",
       "      <td>17.33</td>\n",
       "      <td>184.60</td>\n",
       "      <td>2019.0</td>\n",
       "      <td>0.1622</td>\n",
       "      <td>0.6656</td>\n",
       "      <td>0.7119</td>\n",
       "      <td>0.2654</td>\n",
       "      <td>0.4601</td>\n",
       "      <td>0.11890</td>\n",
       "    </tr>\n",
       "    <tr>\n",
       "      <th>1</th>\n",
       "      <td>20.57</td>\n",
       "      <td>17.77</td>\n",
       "      <td>132.90</td>\n",
       "      <td>1326.0</td>\n",
       "      <td>0.08474</td>\n",
       "      <td>0.07864</td>\n",
       "      <td>0.0869</td>\n",
       "      <td>0.07017</td>\n",
       "      <td>0.1812</td>\n",
       "      <td>0.05667</td>\n",
       "      <td>...</td>\n",
       "      <td>24.99</td>\n",
       "      <td>23.41</td>\n",
       "      <td>158.80</td>\n",
       "      <td>1956.0</td>\n",
       "      <td>0.1238</td>\n",
       "      <td>0.1866</td>\n",
       "      <td>0.2416</td>\n",
       "      <td>0.1860</td>\n",
       "      <td>0.2750</td>\n",
       "      <td>0.08902</td>\n",
       "    </tr>\n",
       "    <tr>\n",
       "      <th>2</th>\n",
       "      <td>19.69</td>\n",
       "      <td>21.25</td>\n",
       "      <td>130.00</td>\n",
       "      <td>1203.0</td>\n",
       "      <td>0.10960</td>\n",
       "      <td>0.15990</td>\n",
       "      <td>0.1974</td>\n",
       "      <td>0.12790</td>\n",
       "      <td>0.2069</td>\n",
       "      <td>0.05999</td>\n",
       "      <td>...</td>\n",
       "      <td>23.57</td>\n",
       "      <td>25.53</td>\n",
       "      <td>152.50</td>\n",
       "      <td>1709.0</td>\n",
       "      <td>0.1444</td>\n",
       "      <td>0.4245</td>\n",
       "      <td>0.4504</td>\n",
       "      <td>0.2430</td>\n",
       "      <td>0.3613</td>\n",
       "      <td>0.08758</td>\n",
       "    </tr>\n",
       "    <tr>\n",
       "      <th>3</th>\n",
       "      <td>11.42</td>\n",
       "      <td>20.38</td>\n",
       "      <td>77.58</td>\n",
       "      <td>386.1</td>\n",
       "      <td>0.14250</td>\n",
       "      <td>0.28390</td>\n",
       "      <td>0.2414</td>\n",
       "      <td>0.10520</td>\n",
       "      <td>0.2597</td>\n",
       "      <td>0.09744</td>\n",
       "      <td>...</td>\n",
       "      <td>14.91</td>\n",
       "      <td>26.50</td>\n",
       "      <td>98.87</td>\n",
       "      <td>567.7</td>\n",
       "      <td>0.2098</td>\n",
       "      <td>0.8663</td>\n",
       "      <td>0.6869</td>\n",
       "      <td>0.2575</td>\n",
       "      <td>0.6638</td>\n",
       "      <td>0.17300</td>\n",
       "    </tr>\n",
       "    <tr>\n",
       "      <th>4</th>\n",
       "      <td>20.29</td>\n",
       "      <td>14.34</td>\n",
       "      <td>135.10</td>\n",
       "      <td>1297.0</td>\n",
       "      <td>0.10030</td>\n",
       "      <td>0.13280</td>\n",
       "      <td>0.1980</td>\n",
       "      <td>0.10430</td>\n",
       "      <td>0.1809</td>\n",
       "      <td>0.05883</td>\n",
       "      <td>...</td>\n",
       "      <td>22.54</td>\n",
       "      <td>16.67</td>\n",
       "      <td>152.20</td>\n",
       "      <td>1575.0</td>\n",
       "      <td>0.1374</td>\n",
       "      <td>0.2050</td>\n",
       "      <td>0.4000</td>\n",
       "      <td>0.1625</td>\n",
       "      <td>0.2364</td>\n",
       "      <td>0.07678</td>\n",
       "    </tr>\n",
       "  </tbody>\n",
       "</table>\n",
       "<p>5 rows × 30 columns</p>\n",
       "</div>"
      ],
      "text/plain": [
       "   mean radius  mean texture  mean perimeter  mean area  mean smoothness  \\\n",
       "0        17.99         10.38          122.80     1001.0          0.11840   \n",
       "1        20.57         17.77          132.90     1326.0          0.08474   \n",
       "2        19.69         21.25          130.00     1203.0          0.10960   \n",
       "3        11.42         20.38           77.58      386.1          0.14250   \n",
       "4        20.29         14.34          135.10     1297.0          0.10030   \n",
       "\n",
       "   mean compactness  mean concavity  mean concave points  mean symmetry  \\\n",
       "0           0.27760          0.3001              0.14710         0.2419   \n",
       "1           0.07864          0.0869              0.07017         0.1812   \n",
       "2           0.15990          0.1974              0.12790         0.2069   \n",
       "3           0.28390          0.2414              0.10520         0.2597   \n",
       "4           0.13280          0.1980              0.10430         0.1809   \n",
       "\n",
       "   mean fractal dimension  ...  worst radius  worst texture  worst perimeter  \\\n",
       "0                 0.07871  ...         25.38          17.33           184.60   \n",
       "1                 0.05667  ...         24.99          23.41           158.80   \n",
       "2                 0.05999  ...         23.57          25.53           152.50   \n",
       "3                 0.09744  ...         14.91          26.50            98.87   \n",
       "4                 0.05883  ...         22.54          16.67           152.20   \n",
       "\n",
       "   worst area  worst smoothness  worst compactness  worst concavity  \\\n",
       "0      2019.0            0.1622             0.6656           0.7119   \n",
       "1      1956.0            0.1238             0.1866           0.2416   \n",
       "2      1709.0            0.1444             0.4245           0.4504   \n",
       "3       567.7            0.2098             0.8663           0.6869   \n",
       "4      1575.0            0.1374             0.2050           0.4000   \n",
       "\n",
       "   worst concave points  worst symmetry  worst fractal dimension  \n",
       "0                0.2654          0.4601                  0.11890  \n",
       "1                0.1860          0.2750                  0.08902  \n",
       "2                0.2430          0.3613                  0.08758  \n",
       "3                0.2575          0.6638                  0.17300  \n",
       "4                0.1625          0.2364                  0.07678  \n",
       "\n",
       "[5 rows x 30 columns]"
      ]
     },
     "execution_count": 10,
     "metadata": {},
     "output_type": "execute_result"
    }
   ],
   "source": [
    "from sklearn.datasets import load_breast_cancer\n",
    "import pandas as pd\n",
    "import numpy as np\n",
    "import matplotlib.pyplot as plt\n",
    "\n",
    "X, y = load_breast_cancer(return_X_y=True, as_frame=True)\n",
    "\n",
    "# y = pd.DataFrame(np.where(y[:]==0, 1, 0))\n",
    "for i in y:\n",
    "    if i==1:\n",
    "        i=0\n",
    "    else:\n",
    "        i=1\n",
    "        \n",
    "\n",
    "\n",
    "X.head()        # to get a feeling of data"
   ]
  },
  {
   "cell_type": "code",
   "execution_count": 11,
   "metadata": {},
   "outputs": [
    {
     "data": {
      "text/plain": [
       "(569,)"
      ]
     },
     "execution_count": 11,
     "metadata": {},
     "output_type": "execute_result"
    }
   ],
   "source": [
    "y.shape       #Data targets"
   ]
  },
  {
   "cell_type": "code",
   "execution_count": 12,
   "metadata": {},
   "outputs": [],
   "source": [
    "from sklearn.model_selection import train_test_split\n",
    "\n",
    "X_train, X_test, y_train, y_test = train_test_split(X, y, test_size=0.33, random_state=40)"
   ]
  },
  {
   "attachments": {},
   "cell_type": "markdown",
   "metadata": {},
   "source": [
    "adding a column of 1 to training and test data"
   ]
  },
  {
   "cell_type": "code",
   "execution_count": 13,
   "metadata": {},
   "outputs": [],
   "source": [
    "X_train.insert(0, \"Dummy\", np.ones(X_train.shape[0]))\n",
    "X_test.insert(0, \"Dummy\", np.ones(X_test.shape[0]))\n",
    "\n",
    "\n",
    "features_size = X_train.shape[1]  # Extracting the number of features\n",
    "\n",
    "\n"
   ]
  },
  {
   "cell_type": "code",
   "execution_count": 14,
   "metadata": {},
   "outputs": [],
   "source": [
    "from sklearn.preprocessing import StandardScaler\n",
    "\n",
    "scaler = StandardScaler()\n",
    "X_train = scaler.fit_transform(X_train)\n",
    "X_test = scaler.transform(X_test)\n",
    "\n",
    "y_train = y_train.to_numpy(y_train)\n",
    "y_test = y_test.to_numpy(y_test)\n"
   ]
  },
  {
   "attachments": {},
   "cell_type": "markdown",
   "metadata": {},
   "source": [
    "Sigmoid Function"
   ]
  },
  {
   "cell_type": "code",
   "execution_count": 15,
   "metadata": {},
   "outputs": [],
   "source": [
    "def sigmoid(z):\n",
    "    return 1 / (1+np.exp(-z))"
   ]
  },
  {
   "attachments": {},
   "cell_type": "markdown",
   "metadata": {},
   "source": [
    "Training using Logistic Regression"
   ]
  },
  {
   "cell_type": "code",
   "execution_count": 16,
   "metadata": {},
   "outputs": [
    {
     "name": "stdout",
     "output_type": "stream",
     "text": [
      "8.398950131233596\n"
     ]
    }
   ],
   "source": [
    "\n",
    "\n",
    "w = np.zeros(features_size)\n",
    "learning_rate = 0.01\n",
    "N = X_train.shape[0]\n",
    "delta_E = 20*np.ones(features_size)\n",
    "threshold = 20\n",
    "theta = 0.5\n",
    "num_of_iterations = 5\n",
    "counter = 0\n",
    "while counter <= num_of_iterations:\n",
    "    \n",
    "    predicted_class = []\n",
    "    delta_E = 0\n",
    "    for i in range(N):\n",
    "        delta_E += -1/N * (y_train[i]*X_train[i][:].T) / (1+np.exp(y_train[i]*w.T@X_train[i][:].T))\n",
    "        \n",
    "    w = w - learning_rate * delta_E\n",
    "\n",
    "    Error_zero_one = 0\n",
    "    for i in range(N):\n",
    "        predicted_class.append(1 if sigmoid(w.T@X_train[i][:].T) >= theta else 0)\n",
    "        if y_train[i] != predicted_class[i]:\n",
    "            Error_zero_one += 1\n",
    "    counter += 1\n",
    "\n",
    "Generalization_Err = 0\n",
    "for i in range(N):\n",
    "    if y_train[i] != predicted_class[i]:\n",
    "        Generalization_Err += 1\n",
    "\n",
    "print(Generalization_Err/y_train.shape[0]*100)\n",
    "    \n",
    "\n",
    "\n"
   ]
  },
  {
   "cell_type": "code",
   "execution_count": 17,
   "metadata": {},
   "outputs": [],
   "source": [
    "def confusion_matrix(predict, y_test):\n",
    "    TP, FP, TN, FN = 0, 0, 0, 0\n",
    "    for y,t in zip(predict,y_test):\n",
    "        if y == 1 and t == 1:\n",
    "            TP += 1\n",
    "        if y == 1 and t == 0:\n",
    "            FP += 1\n",
    "        if y == 0 and t == 0:\n",
    "            TN += 1\n",
    "        if y == 0 and t == 1:\n",
    "            FN += 1\n",
    "        \n",
    "        FPR = 0 if (FP + TN) == 0 else FP / (FP + TN)     # Fase positive rate\n",
    "        TPR = 0 if (TP + FN) == 0 else TP / (TP + FN)       # True Positive Rate\n",
    "        specificity = 0 if (TN + FP) == 0 else TN / (TN + FP)\n",
    "        miss_classification = (FP+FN)/(TP+TN+FP+FN)\n",
    "        recall = 0 if (TP+FN) == 0 else TP/(TP+FN)\n",
    "        precision = 0 if (TP+FP) == 0 else TP/(TP+FP)\n",
    "        F1 = 0 if (recall+precision) == 0 else 2*(recall*precision)/(recall+precision)\n",
    "    return miss_classification, TPR, FPR, F1, specificity, TP, TN, FP, FN\n"
   ]
  },
  {
   "attachments": {},
   "cell_type": "markdown",
   "metadata": {},
   "source": [
    "ROC"
   ]
  },
  {
   "cell_type": "code",
   "execution_count": 44,
   "metadata": {},
   "outputs": [
    {
     "name": "stdout",
     "output_type": "stream",
     "text": [
      "60\n"
     ]
    },
    {
     "data": {
      "image/png": "[encoded data removed]",
      "text/plain": [
       "<Figure size 640x480 with 1 Axes>"
      ]
     },
     "metadata": {},
     "output_type": "display_data"
    },
    {
     "name": "stdout",
     "output_type": "stream",
     "text": [
      "Missclassification rate for built-in LR:2.127659574468085%\n"
     ]
    }
   ],
   "source": [
    "theta = np.linspace(0,1,150)\n",
    "\n",
    "miss_classification_rate_all_coded = []\n",
    "\n",
    "theta = X_test@w\n",
    "theta = sigmoid(theta)\n",
    "theta = np.sort(theta)\n",
    "TPR_coded = []\n",
    "specifity_coded = []\n",
    "FPR_coded = []\n",
    "N = X_test.shape[0]\n",
    "\n",
    "for theta_i in theta:\n",
    "    predicted_class = []\n",
    "    for i in range(N):\n",
    "        \n",
    "        predicted_class.append(1 if sigmoid(w@X_test[i][:]) >= theta_i else 0)\n",
    "        \n",
    "    miss_classification_rate, TPR, FPR, F1, specificity, TP, TN, FP, FN = confusion_matrix(predicted_class, y_test)\n",
    "    \n",
    "    miss_classification_rate_all_coded.append(miss_classification_rate)\n",
    "    specifity_coded.append(specificity)\n",
    "    TPR_coded.append(TPR)\n",
    "    FPR_coded.append(FPR)\n",
    "\n",
    "min_missclass = miss_classification_rate_all_coded.index(min(miss_classification_rate_all_coded))\n",
    "print(min_missclass)\n",
    "# plt.plot(FPR_SCI, TPR_SCI)\n",
    "plt.plot([0,1], [0,1], linestyle='--', label='No Skill')\n",
    "plt.plot(FPR_coded, TPR_coded, marker='.', label='Logistic')\n",
    "plt.plot(FPR_coded[min_missclass], TPR_coded[min_missclass], 'k-x', label='Optimum Point')\n",
    "plt.xlabel('False Positive Rate')\n",
    "plt.ylabel('True Positive Rate')\n",
    "plt.legend()\n",
    "# show the plot\n",
    "plt.show()\n",
    "\n",
    "print(\"Missclassification rate for built-in LR:\" + str(min(miss_classification_rate_all_coded)*100)+\"%\")"
   ]
  },
  {
   "attachments": {},
   "cell_type": "markdown",
   "metadata": {},
   "source": [
    "Logistic Regression with Sci-kit"
   ]
  },
  {
   "cell_type": "code",
   "execution_count": 43,
   "metadata": {},
   "outputs": [
    {
     "name": "stdout",
     "output_type": "stream",
     "text": [
      "0\n"
     ]
    },
    {
     "data": {
      "image/png": "[encoded data removed]",
      "text/plain": [
       "<Figure size 640x480 with 1 Axes>"
      ]
     },
     "metadata": {},
     "output_type": "display_data"
    },
    {
     "name": "stdout",
     "output_type": "stream",
     "text": [
      "Missclassification rate for built-in LR:1.5957446808510638%\n"
     ]
    }
   ],
   "source": [
    "from sklearn.linear_model import LogisticRegression\n",
    "from sklearn.metrics import roc_curve\n",
    "\n",
    "\n",
    "clf = LogisticRegression(random_state=0)\n",
    "clf.fit(X_train, y_train)\n",
    "yhat = clf.predict_proba(X_test)\n",
    "yhat = yhat[:, 1]\n",
    "\n",
    "fpr, tpr, thresholds = roc_curve(y_test, yhat,drop_intermediate=False)\n",
    "\n",
    "w_lf = clf.coef_\n",
    "w.shape\n",
    "\n",
    "\n",
    "TPR_SCI = []\n",
    "specifity_SCI = []\n",
    "FPR_SCI = []\n",
    "miss_classification_rate_all_SCI = []\n",
    "\n",
    "# theta = np.linspace(-20,40,1000)\n",
    "# theta_l = 1/(1+np.exp(-theta))\n",
    "for THRESHOLD in theta:\n",
    "\n",
    "    preds = np.where(yhat > THRESHOLD, 1, 0)\n",
    "    \n",
    "    miss_classification_rate, TPR, FPR, F1, specificity, TP, TN, FP, FN = confusion_matrix(preds, y_test)\n",
    "    \n",
    "    miss_classification_rate_all_SCI.append(miss_classification_rate)\n",
    "    specifity_SCI.append(specificity)\n",
    "    TPR_SCI.append(TPR)\n",
    "    FPR_SCI.append(FPR)\n",
    "\n",
    "min_missclass = miss_classification_rate_all_SCI.index(min(miss_classification_rate_all_SCI))\n",
    "print(min_missclass)\n",
    "\n",
    "\n",
    "# plt.plot(FPR_SCI, TPR_SCI)\n",
    "plt.plot([0,1], [0,1], linestyle='--', label='No Skill')\n",
    "plt.plot(fpr, tpr, marker='.', label='Logistic')\n",
    "plt.plot(FPR_SCI[min_missclass], TPR_SCI[min_missclass], 'k-x', label='Optimum Point')\n",
    "plt.xlabel('False Positive Rate')\n",
    "plt.ylabel('True Positive Rate')\n",
    "plt.legend()\n",
    "# show the plot\n",
    "plt.show()\n",
    "\n",
    "print(\"Missclassification rate for built-in LR:\" + str(min(miss_classification_rate_all_SCI)*100)+\"%\")"
   ]
  },
  {
   "attachments": {},
   "cell_type": "markdown",
   "metadata": {},
   "source": [
    "KNN implementation - Cross Validation\n"
   ]
  },
  {
   "cell_type": "code",
   "execution_count": 52,
   "metadata": {},
   "outputs": [
    {
     "name": "stdout",
     "output_type": "stream",
     "text": [
      "k = 1, accuracy = 0.948052\n",
      "k = 1, accuracy = 0.947368\n",
      "k = 1, accuracy = 0.894737\n",
      "k = 1, accuracy = 0.960526\n",
      "k = 1, accuracy = 0.934211\n",
      "mean accuracy for k = 1: 0.936979\n",
      "k = 3, accuracy = 0.961039\n",
      "k = 3, accuracy = 0.986842\n",
      "k = 3, accuracy = 0.907895\n",
      "k = 3, accuracy = 0.986842\n",
      "k = 3, accuracy = 0.947368\n",
      "mean accuracy for k = 3: 0.957997\n",
      "k = 5, accuracy = 0.961039\n",
      "k = 5, accuracy = 0.986842\n",
      "k = 5, accuracy = 0.907895\n",
      "k = 5, accuracy = 0.973684\n",
      "k = 5, accuracy = 0.947368\n",
      "mean accuracy for k = 5: 0.955366\n",
      "k = 7, accuracy = 0.961039\n",
      "k = 7, accuracy = 0.986842\n",
      "k = 7, accuracy = 0.907895\n",
      "k = 7, accuracy = 0.973684\n",
      "k = 7, accuracy = 0.934211\n",
      "mean accuracy for k = 7: 0.952734\n",
      "k = 9, accuracy = 0.961039\n",
      "k = 9, accuracy = 0.986842\n",
      "k = 9, accuracy = 0.921053\n",
      "k = 9, accuracy = 0.973684\n",
      "k = 9, accuracy = 0.934211\n",
      "mean accuracy for k = 9: 0.955366\n",
      "\n",
      "**** ---> We chose k=3 since it has the highest accuaracy!\n"
     ]
    }
   ],
   "source": [
    "\n",
    "def knn(train_X, train_y, test_X, k):\n",
    "    num_test = test_X.shape[0]\n",
    "    num_train = train_X.shape[0]\n",
    "    dists = np.zeros((num_test, num_train))\n",
    "    for i in range(num_test):\n",
    "        for j in range(num_train):\n",
    "            dists[i,j] = np.sqrt(np.sum((test_X[i,:] - train_X[j,:])**2))\n",
    "    closest_y = train_y[np.argsort(dists, axis=1)[:, :k]]\n",
    "    y_pred = np.empty(num_test, dtype=train_y.dtype)\n",
    "    for i, row in enumerate(closest_y):\n",
    "        counts = np.bincount(row, minlength=np.max(train_y)+1)\n",
    "        max_count = np.max(counts)\n",
    "        if np.count_nonzero(counts == max_count) == 1:\n",
    "            y_pred[i] = np.argmax(counts)\n",
    "        else:\n",
    "            indices = np.flatnonzero(counts == max_count)\n",
    "            y_pred[i] = np.random.choice(indices)\n",
    "    return y_pred\n",
    "\n",
    "def cross_validation(X, y, num_folds, k_choices):\n",
    "    X_folds = np.array_split(X, num_folds)\n",
    "    y_folds = np.array_split(y, num_folds)\n",
    "    k_to_accuracies = {}\n",
    "    for k in k_choices:\n",
    "        accuracies = []\n",
    "        for i in range(num_folds):\n",
    "            X_train = np.concatenate(X_folds[:i] + X_folds[i+1:])\n",
    "            y_train = np.concatenate(y_folds[:i] + y_folds[i+1:])\n",
    "            X_test = X_folds[i]\n",
    "            y_test = y_folds[i]\n",
    "            y_pred = knn(X_train, y_train, X_test, k)\n",
    "            num_correct = np.sum(y_pred == y_test)\n",
    "            accuracy = float(num_correct) / y_test.shape[0]\n",
    "            accuracies.append(accuracy)\n",
    "        k_to_accuracies[k] = accuracies\n",
    "    return k_to_accuracies\n",
    "\n",
    "k_choices = [1, 3, 5, 7, 9]\n",
    "num_folds = 5\n",
    "k_to_accuracies = cross_validation(X_train, y_train, num_folds, k_choices)\n",
    "\n",
    "\n",
    "for k in sorted(k_to_accuracies):\n",
    "    for accuracy in k_to_accuracies[k]:\n",
    "        print('k = %d, accuracy = %f' % (k, accuracy))\n",
    "    print('mean accuracy for k = %d: %f' % (k, np.mean(k_to_accuracies[k])))\n",
    "\n",
    "print(\"\\n**** ---> We chose k=3 since it has the highest accuaracy!\")"
   ]
  },
  {
   "attachments": {},
   "cell_type": "markdown",
   "metadata": {},
   "source": [
    "Training KNN with k = 3"
   ]
  },
  {
   "cell_type": "code",
   "execution_count": 55,
   "metadata": {},
   "outputs": [
    {
     "name": "stdout",
     "output_type": "stream",
     "text": [
      "Using 3NN classifier, missclassification rate is: 3.1914893617021276%\n"
     ]
    }
   ],
   "source": [
    "y_pred = knn(X_train, y_train, X_test, 3)\n",
    "miss_classification_rate, TPR, FPR, F1, specificity, TP, TN, FP, FN = confusion_matrix(y_pred, y_test)\n",
    "print(\"Using 3NN classifier, missclassification rate is: \" + str(miss_classification_rate*100) + \"%\")"
   ]
  },
  {
   "attachments": {},
   "cell_type": "markdown",
   "metadata": {},
   "source": [
    "KNN implementation using scikit - cross validation"
   ]
  },
  {
   "cell_type": "code",
   "execution_count": 60,
   "metadata": {},
   "outputs": [
    {
     "name": "stdout",
     "output_type": "stream",
     "text": [
      "Using 3NN classifier, missclassification rate is: 2.6595744680851063%\n"
     ]
    }
   ],
   "source": [
    "from sklearn.neighbors import KNeighborsClassifier\n",
    "from sklearn.model_selection import cross_val_score\n",
    "\n",
    "# create a KNN classifier object\n",
    "knn = KNeighborsClassifier()\n",
    "\n",
    "# define a range of k values to try\n",
    "k_range = [1, 3, 5, 7, 9]\n",
    "\n",
    "# perform 5-fold cross-validation for each k value in the range\n",
    "k_scores = []\n",
    "for k in k_range:\n",
    "    knn = KNeighborsClassifier(n_neighbors=k)\n",
    "    scores = cross_val_score(knn, X_train, y_train, cv=5, scoring='accuracy')\n",
    "    k_scores.append(scores.mean())\n",
    "\n",
    "# find the best k value based on cross-validation score\n",
    "best_k = k_range[np.argmax(k_scores)]\n",
    "\n",
    "# train the model with the best k value on the full training set\n",
    "knn_best = KNeighborsClassifier(n_neighbors=best_k)\n",
    "knn_best.fit(X_train, y_train)\n",
    "\n",
    "# evaluate the model on the test set\n",
    "pred = knn_best.predict(X_test)\n",
    "\n",
    "miss_classification_rate, TPR, FPR, F1, specificity, TP, TN, FP, FN = confusion_matrix(pred, y_test)\n",
    "print(\"Using 3NN classifier, missclassification rate is: \" + str(miss_classification_rate*100) + \"%\")"
   ]
  }
 ],
 "metadata": {
  "kernelspec": {
   "display_name": "Python 3",
   "language": "python",
   "name": "python3"
  },
  "language_info": {
   "codemirror_mode": {
    "name": "ipython",
    "version": 3
   },
   "file_extension": ".py",
   "mimetype": "text/x-python",
   "name": "python",
   "nbconvert_exporter": "python",
   "pygments_lexer": "ipython3",
   "version": "3.10.6"
  },
  "orig_nbformat": 4,
  "vscode": {
   "interpreter": {
    "hash": "916dbcbb3f70747c44a77c7bcd40155683ae19c65e1c03b4aa3499c5328201f1"
   }
  }
 },
 "nbformat": 4,
 "nbformat_minor": 2
}
